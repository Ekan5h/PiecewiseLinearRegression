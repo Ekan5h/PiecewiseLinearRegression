{
  "nbformat": 4,
  "nbformat_minor": 0,
  "metadata": {
    "colab": {
      "name": "Piecewise-Linear Regression.ipynb",
      "provenance": []
    },
    "kernelspec": {
      "name": "python3",
      "display_name": "Python 3"
    }
  },
  "cells": [
    {
      "cell_type": "markdown",
      "metadata": {
        "id": "TiJE0bh9jYPm",
        "colab_type": "text"
      },
      "source": [
        "# Piecewise Linear Regression"
      ]
    },
    {
      "cell_type": "code",
      "metadata": {
        "id": "iWzTNJCefFGc",
        "colab_type": "code",
        "colab": {}
      },
      "source": [
        "import numpy as np\n",
        "import pandas as pd\n",
        "import math\n",
        "import matplotlib.pyplot as plt"
      ],
      "execution_count": 1,
      "outputs": []
    },
    {
      "cell_type": "markdown",
      "metadata": {
        "id": "pSqrwS37jk_H",
        "colab_type": "text"
      },
      "source": [
        "## Dataset Generation"
      ]
    },
    {
      "cell_type": "code",
      "metadata": {
        "id": "daakBGl6fXcz",
        "colab_type": "code",
        "colab": {}
      },
      "source": [
        "def f(x):\n",
        "  return (x-1)*(x-5)*(x-11) + 10*np.random.randn()"
      ],
      "execution_count": 2,
      "outputs": []
    },
    {
      "cell_type": "code",
      "metadata": {
        "id": "TKKitVcjhmLq",
        "colab_type": "code",
        "colab": {}
      },
      "source": [
        "x = [i/10 for i in range(120)]\n",
        "y = [f(i) for i in x]"
      ],
      "execution_count": 3,
      "outputs": []
    },
    {
      "cell_type": "code",
      "metadata": {
        "id": "-DMOSg0Ohv-5",
        "colab_type": "code",
        "colab": {
          "base_uri": "https://localhost:8080/",
          "height": 284
        },
        "outputId": "ea43dfd6-7a45-44e8-a112-c30aa95cf61f"
      },
      "source": [
        "plt.scatter(x,y)"
      ],
      "execution_count": 4,
      "outputs": [
        {
          "output_type": "execute_result",
          "data": {
            "text/plain": [
              "<matplotlib.collections.PathCollection at 0x7f854eba1e48>"
            ]
          },
          "metadata": {
            "tags": []
          },
          "execution_count": 4
        },
        {
          "output_type": "display_data",
          "data": {
            "image/png": "[encoded data removed]",
            "text/plain": [
              "<Figure size 432x288 with 1 Axes>"
            ]
          },
          "metadata": {
            "tags": [],
            "needs_background": "light"
          }
        }
      ]
    },
    {
      "cell_type": "markdown",
      "metadata": {
        "id": "MxObu685jw4g",
        "colab_type": "text"
      },
      "source": [
        "## Piecewise Linear Approximation\n",
        "  The function is represented as the y-axis intercept and slopes in the intervals of size `a`. Hence the function is approximated till `x = (len(m)-1)*a`"
      ]
    },
    {
      "cell_type": "code",
      "metadata": {
        "id": "4YobdPM9ioEO",
        "colab_type": "code",
        "colab": {}
      },
      "source": [
        "# Function to evaluate approximation with slopes m[] and interval a at point x\n",
        "def eval(x,m,a):\n",
        "  bucket = int(x/a) + 1\n",
        "  if bucket >= len(m):\n",
        "    w = m[-1]\n",
        "    b = a*(sum(m) - (len(m)-1)*w)\n",
        "  else:\n",
        "    w = m[bucket]\n",
        "    b = a*(sum(m[:bucket+1]) - bucket*w)\n",
        "  return w*x + b"
      ],
      "execution_count": 5,
      "outputs": []
    },
    {
      "cell_type": "code",
      "metadata": {
        "id": "U1YProaGko7b",
        "colab_type": "code",
        "colab": {}
      },
      "source": [
        "lr = 0.05 # Learning Rate\n",
        "iter = 1000"
      ],
      "execution_count": 6,
      "outputs": []
    },
    {
      "cell_type": "code",
      "metadata": {
        "id": "w4a9BOSDpjtP",
        "colab_type": "code",
        "colab": {}
      },
      "source": [
        "m = [np.random.randn() for _ in range(9)]   # Initialising with random slopes\n",
        "costs = []"
      ],
      "execution_count": 7,
      "outputs": []
    },
    {
      "cell_type": "markdown",
      "metadata": {
        "id": "JYfxtyR1vdBB",
        "colab_type": "text"
      },
      "source": [
        "The following code optimizes the loss function which is the sum of averages of squares of distance from the actual data and the weighted squared difference of adjacent slopes (To make the approximation smooth)\n",
        "<center>\n",
        "<pre>\n",
        "L = L<sub><i>dist</i></sub> + a * L<sub><i>smooth</i></sub> ; a = 0.002\n",
        "</pre>\n",
        "</center>\n",
        "<code>a</code> is very small since we want the distance to be the priority over smoothness."
      ]
    },
    {
      "cell_type": "code",
      "metadata": {
        "id": "RZrJ7myVkzoQ",
        "colab_type": "code",
        "colab": {
          "base_uri": "https://localhost:8080/",
          "height": 1000
        },
        "outputId": "190c765d-8787-4e0d-b682-4ac0c3371e4a"
      },
      "source": [
        "min_cost = float('inf')\n",
        "min_m = []\n",
        "a = 1.5\n",
        "for e in range(1,iter+1):\n",
        "  new = [0]*len(m)\n",
        "  cost1 = 0\n",
        "  cost2 = 0\n",
        "  for i in range(len(x)):\n",
        "    pred = eval(x[i], m, a)\n",
        "    cost1 += ((y[i]-pred)**2)/len(x)\n",
        "    for j in range(len(m)):\n",
        "      cost2 += 0 if j<=1 else 0.002*((m[j]-m[j-1])**2)/(2*len(m)-4)\n",
        "      if j==int(x[i]/a)+1:\n",
        "        new[j] += 2 * (pred - y[i]) * (x[i]-int(x[i]/a)) / len(x)\n",
        "      else:\n",
        "        new[j] += 2*(pred - y[i]) / len(x)\n",
        "      if j>1:\n",
        "        new[j] += (0.002)*(m[j]-m[j-1])/(len(m)-2)\n",
        "      if j<len(m)-1 and j>0:\n",
        "        new[j] += (0.002)*(m[j]-m[j+1])/(len(m)-2)\n",
        "  m = [i-lr*j for i,j in zip(m,new)]\n",
        "  if(cost1 + cost2<min_cost):\n",
        "    min_cost = cost1 + cost2\n",
        "    min_m = m\n",
        "  costs.append(cost1 + cost2)\n",
        "  print(\"Epoch: {} => Cost: {}\".format(e,cost1 + cost2))"
      ],
      "execution_count": 8,
      "outputs": [
        {
          "output_type": "stream",
          "text": ["\n"],
          "name": "stdout"
        }
      ]
    },
    {
      "cell_type": "code",
      "metadata": {
        "id": "xJZczAyRmsZP",
        "colab_type": "code",
        "colab": {
          "base_uri": "https://localhost:8080/",
          "height": 282
        },
        "outputId": "ed541c9e-b6ba-45ad-9d7e-cb99751ca026"
      },
      "source": [
        "ydash = [eval(a*i, min_m, a) for i in range(0,int(12/a)+1)]\n",
        "plt.scatter(x,y,label=\"Data Point\")\n",
        "plt.plot([a*i for i in range(0,int(12/a)+1)],ydash, color=\"r\",label=\"Approximated Trend\")\n",
        "plt.plot([a*i for i in range(0,int(12/a)+1)],[(a*i-1)*(a*i-5)*(a*i-11) for i in range(0,int(12/a)+1)], color=\"k\",label=\"Original Trend\")\n",
        "plt.legend()"
      ],
      "execution_count": 9,
      "outputs": [
        {
          "output_type": "execute_result",
          "data": {
            "text/plain": [
              "<matplotlib.legend.Legend at 0x7f854e69fcc0>"
            ]
          },
          "metadata": {
            "tags": []
          },
          "execution_count": 9
        },
        {
          "output_type": "display_data",
          "data": {
            "image/png": "[encoded data removed]",
            "text/plain": [
              "<Figure size 432x288 with 1 Axes>"
            ]
          },
          "metadata": {
            "tags": [],
            "needs_background": "light"
          }
        }
      ]
    },
    {
      "cell_type": "markdown",
      "metadata": {
        "id": "HoM59_1TyaHe",
        "colab_type": "text"
      },
      "source": [
        "## Cost Convergence"
      ]
    },
    {
      "cell_type": "code",
      "metadata": {
        "id": "FfDQgt0i0ooQ",
        "colab_type": "code",
        "colab": {
          "base_uri": "https://localhost:8080/",
          "height": 282
        },
        "outputId": "1641ec52-43a3-4c9c-c817-de5f86f5786c"
      },
      "source": [
        "plt.plot(range(len(costs)),costs)"
      ],
      "execution_count": 10,
      "outputs": [
        {
          "output_type": "execute_result",
          "data": {
            "text/plain": [
              "[<matplotlib.lines.Line2D at 0x7f854e62add8>]"
            ]
          },
          "metadata": {
            "tags": []
          },
          "execution_count": 10
        },
        {
          "output_type": "display_data",
          "data": {
            "image/png": "[encoded data removed]",
            "text/plain": [
              "<Figure size 432x288 with 1 Axes>"
            ]
          },
          "metadata": {
            "tags": [],
            "needs_background": "light"
          }
        }
      ]
    },
    {
      "cell_type": "code",
      "metadata": {
        "id": "pSD1V9Qx5Bum",
        "colab_type": "code",
        "colab": {}
      },
      "source": [
        ""
      ],
      "execution_count": 10,
      "outputs": []
    }
  ]
}
